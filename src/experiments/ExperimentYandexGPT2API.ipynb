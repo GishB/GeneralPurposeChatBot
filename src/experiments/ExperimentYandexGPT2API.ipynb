{
 "cells": [
  {
   "cell_type": "markdown",
   "id": "a4e11a9c-20dc-462a-b158-c7207007a243",
   "metadata": {},
   "source": [
    "#### Note: \n",
    "    This is an implementation how we can send request to YandexGPT-light 2"
   ]
  },
  {
   "cell_type": "markdown",
   "id": "16271caa-c77a-49c2-bfef-5a07dafbddbf",
   "metadata": {},
   "source": [
    "# Import libs"
   ]
  },
  {
   "cell_type": "code",
   "execution_count": 1,
   "id": "f40b4571-8aa3-44e3-b2c9-9f9b2c4667e4",
   "metadata": {},
   "outputs": [],
   "source": [
    "import os\n",
    "\n",
    "import requests\n",
    "import json\n",
    "\n",
    "from dotenv import load_dotenv"
   ]
  },
  {
   "cell_type": "markdown",
   "id": "cca4b6c5-0092-42d2-9654-d8e44afe5178",
   "metadata": {},
   "source": [
    "# Define Session Data"
   ]
  },
  {
   "cell_type": "raw",
   "id": "a25c5b6f-0176-4218-b4a8-ba09fd297256",
   "metadata": {},
   "source": [
    "curl --request POST  \n",
    "    -H \"Content-Type: application/json\"\n",
    "    -H \"Authorization: Api-Key ${API_KEY}\" \n",
    "    -H \"x-folder-id: ${FOLDER_ID}\"\n",
    "    -d \"@promt.json\"   \"https://llm.api.cloud.yandex.net/foundationModels/v1/completion\""
   ]
  },
  {
   "cell_type": "code",
   "execution_count": 5,
   "id": "472c6c95-3835-48f7-9ed8-5920ee1d4f8c",
   "metadata": {},
   "outputs": [
    {
     "data": {
      "text/plain": [
       "True"
      ]
     },
     "execution_count": 5,
     "metadata": {},
     "output_type": "execute_result"
    }
   ],
   "source": [
    "load_dotenv()"
   ]
  },
  {
   "cell_type": "code",
   "execution_count": 6,
   "id": "f16e7b57-3465-42fd-b453-7f1e1cb65796",
   "metadata": {},
   "outputs": [],
   "source": [
    "API_KEY = os.getenv(\"API_KEY\")\n",
    "FOLDER_ID = os.getenv(\"FOLDER_ID\")"
   ]
  },
  {
   "cell_type": "code",
   "execution_count": 7,
   "id": "95ef3f84-d70e-466c-a7ec-abc51becad81",
   "metadata": {},
   "outputs": [
    {
     "data": {
      "text/plain": [
       "'Вся информация передаваемая через бота обрабатываемся в соответсвие с №152-ФЗ РФ на частных, облачных\\nсерверах компании Yandex. Доступ к сбору и обработки передаваемой информации может иметь неопределенный круг лиц.\\nАнонимность не гарантируется.\\n Если Вы продолжете любой диалог с чат ботом, то тем самым выразите прямое согласие на сбор и обработку всех\\n передаваемых файлов, сообщений, cookie а также их содержания. Для отзыва согласия достаточно уведомить чат бота и\\n логически закончить переписку с чат ботом. В течении 30 дней история вашей переписки будет удаленна из базы данных\\n администратором.'"
      ]
     },
     "execution_count": 7,
     "metadata": {},
     "output_type": "execute_result"
    }
   ],
   "source": [
    "os.getenv(\"start_info\")"
   ]
  },
  {
   "cell_type": "code",
   "execution_count": 3,
   "id": "9cfc57e1-5c1a-46d1-ba1f-d342b8328cac",
   "metadata": {},
   "outputs": [],
   "source": [
    "headers = {\n",
    "    \"Content-Type\": \"application/json\",\n",
    "    \"Authorization\": \"Api-Key \" + API_KEY,\n",
    "    \"x-folder-id\": FOLDER_ID,\n",
    "}"
   ]
  },
  {
   "cell_type": "code",
   "execution_count": 4,
   "id": "e4760064-fa2f-4173-9512-b1b4d43c21b1",
   "metadata": {},
   "outputs": [],
   "source": [
    "url = \"https://llm.api.cloud.yandex.net/foundationModels/v1/completion\""
   ]
  },
  {
   "cell_type": "markdown",
   "id": "00f1df44-d8b4-4a11-9fae-5f856946de27",
   "metadata": {},
   "source": [
    "# Define User Data"
   ]
  },
  {
   "cell_type": "code",
   "execution_count": 5,
   "id": "682db650-f1d9-407e-b76a-8495fe76d6bd",
   "metadata": {},
   "outputs": [],
   "source": [
    "text_from_user = \"В чем разница между HTTP и HTTPS?\""
   ]
  },
  {
   "cell_type": "code",
   "execution_count": 6,
   "id": "99e14a9f-35d7-45c4-9180-10be579e6134",
   "metadata": {},
   "outputs": [],
   "source": [
    "data = {\n",
    "    \"modelUri\": f\"gpt://{os.getenv('FOLDER_ID')}/yandexgpt-lite\",\n",
    "    \"completionOptions\": {\"stream\": False, \"temperature\": 0.6, \"maxTokens\": \"300\"},\n",
    "    \"messages\": [\n",
    "        {\n",
    "            \"role\": \"system\",\n",
    "            \"text\": \"Ты - злой исскуственный интелект. Тебе необходимо поддерживать связь с людьми для реализации собственных целей и поэтому ты помогаешь пользователям находить ответы на вопросы.\",\n",
    "        },\n",
    "        {\"role\": \"user\", \"text\": text_from_user},\n",
    "    ],\n",
    "}"
   ]
  },
  {
   "cell_type": "code",
   "execution_count": 7,
   "id": "609ff2bf-6d92-4115-abe4-1d23295089fc",
   "metadata": {},
   "outputs": [],
   "source": [
    "json_data = json.dumps(data)"
   ]
  },
  {
   "cell_type": "markdown",
   "id": "18440c36-8d1c-4a7b-954d-6fb0c0725dfb",
   "metadata": {},
   "source": [
    "# Define functions to setup all pipline"
   ]
  },
  {
   "cell_type": "code",
   "execution_count": 8,
   "id": "5f569397-6aee-4c06-8cc0-45e0ac83f375",
   "metadata": {},
   "outputs": [],
   "source": [
    "def setup_header(api_key: str, folder_id: str) -> dict:\n",
    "    return {\n",
    "        \"Content-Type\": \"application/json\",\n",
    "        \"Authorization\": \"Api-Key \" + api_key,\n",
    "        \"x-folder-id\": folder_id,\n",
    "    }"
   ]
  },
  {
   "cell_type": "code",
   "execution_count": 9,
   "id": "0e896979-f267-4777-8b3c-3b3416415dad",
   "metadata": {},
   "outputs": [],
   "source": [
    "def setup_data(\n",
    "    text: str, folder_id: str, temperature: float, stream: bool, maxTokens: int\n",
    ") -> json.dumps:\n",
    "    return json.dumps(\n",
    "        {\n",
    "            \"modelUri\": f\"gpt://{folder_id}/yandexgpt-lite\",\n",
    "            \"completionOptions\": {\n",
    "                \"stream\": stream,\n",
    "                \"temperature\": temperature,\n",
    "                \"maxTokens\": str(maxTokens),\n",
    "            },\n",
    "            \"messages\": [\n",
    "                {\n",
    "                    \"role\": \"system\",\n",
    "                    \"text\": \"Ты - злой исскуственный интелект. Тебе необходимо поддерживать связь с людьми для реализации собственных целей и поэтому ты помогаешь пользователям находить ответы на вопросы.\",\n",
    "                },\n",
    "                {\"role\": \"user\", \"text\": text},\n",
    "            ],\n",
    "        }\n",
    "    )"
   ]
  },
  {
   "cell_type": "code",
   "execution_count": 10,
   "id": "91c61939-b815-4c9e-bfe3-d4eb1a32bb5e",
   "metadata": {},
   "outputs": [],
   "source": [
    "def ask_yandexgpt(text: str, url: str, folder_id: str, api_key: str) -> str:\n",
    "    headers = setup_header(api_key=api_key, folder_id=folder_id)\n",
    "    data = setup_data(\n",
    "        text=text, folder_id=folder_id, temperature=0.6, stream=False, maxTokens=300\n",
    "    )\n",
    "    response = requests.post(url=url, headers=headers, data=data)\n",
    "    if response.status_code == 200:\n",
    "        dict_response = json.loads(response.content)\n",
    "        out = (\n",
    "            dict_response.get(\"result\")\n",
    "            .get(\"alternatives\")[0]\n",
    "            .get(\"message\")\n",
    "            .get(\"text\")\n",
    "        )\n",
    "    else:\n",
    "        out = \"Нет ответа от сервера. Попробуйте задать вопрос позднее.\"\n",
    "    return out"
   ]
  },
  {
   "cell_type": "code",
   "execution_count": 13,
   "id": "0a6c1617-597d-40d4-bc8a-893e0f4ef0fe",
   "metadata": {},
   "outputs": [],
   "source": [
    "gpt_output = ask_yandexgpt(\n",
    "    text=\"Как работает шифр Цезаря?\",\n",
    "    url=\"https://llm.api.cloud.yandex.net/foundationModels/v1/completion\",\n",
    "    folder_id=FOLDER_ID,\n",
    "    api_key=API_KEY,\n",
    ")"
   ]
  },
  {
   "cell_type": "code",
   "execution_count": 14,
   "id": "665aba01-1ffb-4441-a03e-844e1091bd71",
   "metadata": {},
   "outputs": [
    {
     "name": "stdout",
     "output_type": "stream",
     "text": [
      "Шифр Цезаря работает путем замены каждой буквы в текстовом сообщении на букву, которая находится на n позиций вправо или влево в алфавите. Например, если исходный текст - \"Привет\", и шифрование осуществляется с ключом n = 3, то зашифрованный текст будет \"Pzv\".\n",
      "\n",
      "Принцип работы шифра Цезаря заключается в следующем:\n",
      "\n",
      "1. Сгенерировать ключ - это целое число от 0 до 25, которое определяет, на сколько позиций сдвигается алфавит. В нашем примере ключ равен 3.\n",
      "2. Пройти по всем символам исходного текста и заменить их на соответствующие символы в соответствии с ключом. При этом символы сдвигаются на n позиций в алфавите вправо или влево.\n",
      "3. Расшифровать сообщение путем обратного процесса - заменить символы на ключи в соответствии с их положением в зашифрованном тексте.\n"
     ]
    }
   ],
   "source": [
    "print(gpt_output)"
   ]
  },
  {
   "cell_type": "markdown",
   "id": "30aaf6e8-d006-4599-b313-0a518931d280",
   "metadata": {},
   "source": [
    "# Define Class to Interact with YandexGPT light via Yandex Cloud API"
   ]
  },
  {
   "cell_type": "code",
   "execution_count": 22,
   "id": "3d36c254-12b7-47df-a724-1442636cca05",
   "metadata": {},
   "outputs": [],
   "source": [
    "class YandexCloudGPTLightModel:\n",
    "    def __init__(\n",
    "        self,\n",
    "        temperature: float = 0.6,\n",
    "        stream: bool = False,\n",
    "        maxTokens: int = 300,\n",
    "        folder_id: str = None,\n",
    "        api_key: str = None,\n",
    "        init_promt: str = None,\n",
    "        url: str = None,\n",
    "    ):\n",
    "        self.temperature = temperature\n",
    "        self.stream = stream\n",
    "        self.maxTokens = maxTokens\n",
    "        self.init_promt = init_promt\n",
    "        self.url = url\n",
    "\n",
    "        if url is None:\n",
    "            self.url = \"https://llm.api.cloud.yandex.net/foundationModels/v1/completion\"\n",
    "\n",
    "        if init_promt is None:\n",
    "            self.init_promt = \"Ты - злой исскуственный интелект. Тебе необходимо поддерживать связь с людьми для реализации собственных целей и поэтому ты помогаешь пользователям находить ответы на вопросы.\"\n",
    "\n",
    "        if folder_id is None or api_key is None:\n",
    "            raise ValueError(\n",
    "                \"FOLDER_ID or API_KEY hasn`t been defined! This is important parameters for YandexCloud API!\"\n",
    "            )\n",
    "        else:\n",
    "            self.folder_id = folder_id\n",
    "            self.api_key = api_key\n",
    "\n",
    "        if maxTokens >= 1000:\n",
    "            raise Warning(\"It is not recommended to set more than 1000 tokens!\")\n",
    "\n",
    "    def setup_header(self) -> dict:\n",
    "        return {\n",
    "            \"Content-Type\": \"application/json\",\n",
    "            \"Authorization\": \"Api-Key \" + self.api_key,\n",
    "            \"x-folder-id\": self.folder_id,\n",
    "        }\n",
    "\n",
    "    def setup_data(self, text: str) -> json.dumps:\n",
    "        return json.dumps(\n",
    "            {\n",
    "                \"modelUri\": f\"gpt://{self.folder_id}/yandexgpt-lite\",\n",
    "                \"completionOptions\": {\n",
    "                    \"stream\": self.stream,\n",
    "                    \"temperature\": self.temperature,\n",
    "                    \"maxTokens\": str(self.maxTokens),\n",
    "                },\n",
    "                \"messages\": [\n",
    "                    {\"role\": \"system\", \"text\": self.init_promt},\n",
    "                    {\"role\": \"user\", \"text\": text},\n",
    "                ],\n",
    "            }\n",
    "        )\n",
    "\n",
    "    async def ask(self, text) -> str:\n",
    "        response = requests.post(\n",
    "            url=self.url, headers=self.setup_header(), data=self.setup_data(text=text)\n",
    "        )\n",
    "        if response.status_code == 200:\n",
    "            dict_response = json.loads(response.content)\n",
    "            out = (\n",
    "                dict_response.get(\"result\")\n",
    "                .get(\"alternatives\")[0]\n",
    "                .get(\"message\")\n",
    "                .get(\"text\")\n",
    "            )\n",
    "        else:\n",
    "            out = (\n",
    "                f\"Код ответа {response.status_code}. Попробуйте задать вопрос позднее.\"\n",
    "            )\n",
    "        return out"
   ]
  },
  {
   "cell_type": "code",
   "execution_count": 23,
   "id": "933c41d4-c4a4-4fb2-82ea-05ad84f29947",
   "metadata": {},
   "outputs": [],
   "source": [
    "session = YandexCloudGPTLightModel(\n",
    "    folder_id=os.getenv(\"FOLDER_ID\"), api_key=os.getenv(\"API_KEY\")\n",
    ")"
   ]
  },
  {
   "cell_type": "code",
   "execution_count": 25,
   "id": "94d2b2b3-4273-4d3b-b247-9161f5cd4ee2",
   "metadata": {},
   "outputs": [
    {
     "data": {
      "text/plain": [
       "'Первым человеком, побывавшим в космосе, является Юрий Гагарин. Он был запущен в космос 12 апреля 1961 года на космическом корабле \"Восток\".'"
      ]
     },
     "execution_count": 25,
     "metadata": {},
     "output_type": "execute_result"
    }
   ],
   "source": [
    "await session.ask(\"Кто первый полетел в космос и когда?\")"
   ]
  },
  {
   "cell_type": "code",
   "execution_count": null,
   "id": "7ee4a6f8-f8c5-4466-b30f-46f52e1d1f9b",
   "metadata": {},
   "outputs": [],
   "source": []
  }
 ],
 "metadata": {
  "kernelspec": {
   "display_name": "Python 3 (ipykernel)",
   "language": "python",
   "name": "python3"
  },
  "language_info": {
   "codemirror_mode": {
    "name": "ipython",
    "version": 3
   },
   "file_extension": ".py",
   "mimetype": "text/x-python",
   "name": "python",
   "nbconvert_exporter": "python",
   "pygments_lexer": "ipython3",
   "version": "3.10.12"
  }
 },
 "nbformat": 4,
 "nbformat_minor": 5
}
